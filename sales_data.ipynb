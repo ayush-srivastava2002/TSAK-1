{
 "cells": [
  {
   "cell_type": "code",
   "execution_count": 1,
   "id": "3bdbc5aa-4697-4786-96d4-a2c10b1e836c",
   "metadata": {},
   "outputs": [],
   "source": [
    "import pandas as pd\n",
    "import matplotlib.pyplot as plt\n",
    "import seaborn as sns"
   ]
  },
  {
   "cell_type": "code",
   "execution_count": 2,
   "id": "7fd20353-4d27-451f-9891-e891834e1e34",
   "metadata": {},
   "outputs": [
    {
     "data": {
      "text/html": [
       "<div>\n",
       "<style scoped>\n",
       "    .dataframe tbody tr th:only-of-type {\n",
       "        vertical-align: middle;\n",
       "    }\n",
       "\n",
       "    .dataframe tbody tr th {\n",
       "        vertical-align: top;\n",
       "    }\n",
       "\n",
       "    .dataframe thead th {\n",
       "        text-align: right;\n",
       "    }\n",
       "</style>\n",
       "<table border=\"1\" class=\"dataframe\">\n",
       "  <thead>\n",
       "    <tr style=\"text-align: right;\">\n",
       "      <th></th>\n",
       "      <th>ORDERNUMBER</th>\n",
       "      <th>QUANTITYORDERED</th>\n",
       "      <th>PRICEEACH</th>\n",
       "      <th>ORDERLINENUMBER</th>\n",
       "      <th>SALES</th>\n",
       "      <th>ORDERDATE</th>\n",
       "      <th>STATUS</th>\n",
       "      <th>QTR_ID</th>\n",
       "      <th>MONTH_ID</th>\n",
       "      <th>YEAR_ID</th>\n",
       "      <th>...</th>\n",
       "      <th>ADDRESSLINE1</th>\n",
       "      <th>ADDRESSLINE2</th>\n",
       "      <th>CITY</th>\n",
       "      <th>STATE</th>\n",
       "      <th>POSTALCODE</th>\n",
       "      <th>COUNTRY</th>\n",
       "      <th>TERRITORY</th>\n",
       "      <th>CONTACTLASTNAME</th>\n",
       "      <th>CONTACTFIRSTNAME</th>\n",
       "      <th>DEALSIZE</th>\n",
       "    </tr>\n",
       "  </thead>\n",
       "  <tbody>\n",
       "    <tr>\n",
       "      <th>0</th>\n",
       "      <td>10107</td>\n",
       "      <td>30</td>\n",
       "      <td>95.70</td>\n",
       "      <td>2</td>\n",
       "      <td>2871.00</td>\n",
       "      <td>2/24/2003 0:00</td>\n",
       "      <td>Shipped</td>\n",
       "      <td>1</td>\n",
       "      <td>2</td>\n",
       "      <td>2003</td>\n",
       "      <td>...</td>\n",
       "      <td>897 Long Airport Avenue</td>\n",
       "      <td>NaN</td>\n",
       "      <td>NYC</td>\n",
       "      <td>NY</td>\n",
       "      <td>10022</td>\n",
       "      <td>USA</td>\n",
       "      <td>NaN</td>\n",
       "      <td>Yu</td>\n",
       "      <td>Kwai</td>\n",
       "      <td>Small</td>\n",
       "    </tr>\n",
       "    <tr>\n",
       "      <th>1</th>\n",
       "      <td>10121</td>\n",
       "      <td>34</td>\n",
       "      <td>81.35</td>\n",
       "      <td>5</td>\n",
       "      <td>2765.90</td>\n",
       "      <td>5/7/2003 0:00</td>\n",
       "      <td>Shipped</td>\n",
       "      <td>2</td>\n",
       "      <td>5</td>\n",
       "      <td>2003</td>\n",
       "      <td>...</td>\n",
       "      <td>59 rue de l'Abbaye</td>\n",
       "      <td>NaN</td>\n",
       "      <td>Reims</td>\n",
       "      <td>NaN</td>\n",
       "      <td>51100</td>\n",
       "      <td>France</td>\n",
       "      <td>EMEA</td>\n",
       "      <td>Henriot</td>\n",
       "      <td>Paul</td>\n",
       "      <td>Small</td>\n",
       "    </tr>\n",
       "    <tr>\n",
       "      <th>2</th>\n",
       "      <td>10134</td>\n",
       "      <td>41</td>\n",
       "      <td>94.74</td>\n",
       "      <td>2</td>\n",
       "      <td>3884.34</td>\n",
       "      <td>7/1/2003 0:00</td>\n",
       "      <td>Shipped</td>\n",
       "      <td>3</td>\n",
       "      <td>7</td>\n",
       "      <td>2003</td>\n",
       "      <td>...</td>\n",
       "      <td>27 rue du Colonel Pierre Avia</td>\n",
       "      <td>NaN</td>\n",
       "      <td>Paris</td>\n",
       "      <td>NaN</td>\n",
       "      <td>75508</td>\n",
       "      <td>France</td>\n",
       "      <td>EMEA</td>\n",
       "      <td>Da Cunha</td>\n",
       "      <td>Daniel</td>\n",
       "      <td>Medium</td>\n",
       "    </tr>\n",
       "    <tr>\n",
       "      <th>3</th>\n",
       "      <td>10145</td>\n",
       "      <td>45</td>\n",
       "      <td>83.26</td>\n",
       "      <td>6</td>\n",
       "      <td>3746.70</td>\n",
       "      <td>8/25/2003 0:00</td>\n",
       "      <td>Shipped</td>\n",
       "      <td>3</td>\n",
       "      <td>8</td>\n",
       "      <td>2003</td>\n",
       "      <td>...</td>\n",
       "      <td>78934 Hillside Dr.</td>\n",
       "      <td>NaN</td>\n",
       "      <td>Pasadena</td>\n",
       "      <td>CA</td>\n",
       "      <td>90003</td>\n",
       "      <td>USA</td>\n",
       "      <td>NaN</td>\n",
       "      <td>Young</td>\n",
       "      <td>Julie</td>\n",
       "      <td>Medium</td>\n",
       "    </tr>\n",
       "    <tr>\n",
       "      <th>4</th>\n",
       "      <td>10159</td>\n",
       "      <td>49</td>\n",
       "      <td>100.00</td>\n",
       "      <td>14</td>\n",
       "      <td>5205.27</td>\n",
       "      <td>10/10/2003 0:00</td>\n",
       "      <td>Shipped</td>\n",
       "      <td>4</td>\n",
       "      <td>10</td>\n",
       "      <td>2003</td>\n",
       "      <td>...</td>\n",
       "      <td>7734 Strong St.</td>\n",
       "      <td>NaN</td>\n",
       "      <td>San Francisco</td>\n",
       "      <td>CA</td>\n",
       "      <td>NaN</td>\n",
       "      <td>USA</td>\n",
       "      <td>NaN</td>\n",
       "      <td>Brown</td>\n",
       "      <td>Julie</td>\n",
       "      <td>Medium</td>\n",
       "    </tr>\n",
       "  </tbody>\n",
       "</table>\n",
       "<p>5 rows × 25 columns</p>\n",
       "</div>"
      ],
      "text/plain": [
       "   ORDERNUMBER  QUANTITYORDERED  PRICEEACH  ORDERLINENUMBER    SALES  \\\n",
       "0        10107               30      95.70                2  2871.00   \n",
       "1        10121               34      81.35                5  2765.90   \n",
       "2        10134               41      94.74                2  3884.34   \n",
       "3        10145               45      83.26                6  3746.70   \n",
       "4        10159               49     100.00               14  5205.27   \n",
       "\n",
       "         ORDERDATE   STATUS  QTR_ID  MONTH_ID  YEAR_ID  ...  \\\n",
       "0   2/24/2003 0:00  Shipped       1         2     2003  ...   \n",
       "1    5/7/2003 0:00  Shipped       2         5     2003  ...   \n",
       "2    7/1/2003 0:00  Shipped       3         7     2003  ...   \n",
       "3   8/25/2003 0:00  Shipped       3         8     2003  ...   \n",
       "4  10/10/2003 0:00  Shipped       4        10     2003  ...   \n",
       "\n",
       "                    ADDRESSLINE1  ADDRESSLINE2           CITY STATE  \\\n",
       "0        897 Long Airport Avenue           NaN            NYC    NY   \n",
       "1             59 rue de l'Abbaye           NaN          Reims   NaN   \n",
       "2  27 rue du Colonel Pierre Avia           NaN          Paris   NaN   \n",
       "3             78934 Hillside Dr.           NaN       Pasadena    CA   \n",
       "4                7734 Strong St.           NaN  San Francisco    CA   \n",
       "\n",
       "  POSTALCODE COUNTRY TERRITORY CONTACTLASTNAME CONTACTFIRSTNAME DEALSIZE  \n",
       "0      10022     USA       NaN              Yu             Kwai    Small  \n",
       "1      51100  France      EMEA         Henriot             Paul    Small  \n",
       "2      75508  France      EMEA        Da Cunha           Daniel   Medium  \n",
       "3      90003     USA       NaN           Young            Julie   Medium  \n",
       "4        NaN     USA       NaN           Brown            Julie   Medium  \n",
       "\n",
       "[5 rows x 25 columns]"
      ]
     },
     "execution_count": 2,
     "metadata": {},
     "output_type": "execute_result"
    }
   ],
   "source": [
    "sales=pd.read_csv(r\"C:\\Users\\sriva\\OneDrive\\Desktop\\Project\\elevate lab intern\\sales_data_sample (1).csv\",encoding='windows-1252')\n",
    "sales.head()"
   ]
  },
  {
   "cell_type": "code",
   "execution_count": 3,
   "id": "fadcb6e4-be92-455b-8447-1d53c37fcc1d",
   "metadata": {},
   "outputs": [
    {
     "data": {
      "text/plain": [
       "(2823, 25)"
      ]
     },
     "execution_count": 3,
     "metadata": {},
     "output_type": "execute_result"
    }
   ],
   "source": [
    "sales.shape"
   ]
  },
  {
   "cell_type": "code",
   "execution_count": 4,
   "id": "1d034c40-c1da-454b-a833-df74a0015c30",
   "metadata": {},
   "outputs": [
    {
     "name": "stdout",
     "output_type": "stream",
     "text": [
      "<class 'pandas.core.frame.DataFrame'>\n",
      "RangeIndex: 2823 entries, 0 to 2822\n",
      "Data columns (total 25 columns):\n",
      " #   Column            Non-Null Count  Dtype  \n",
      "---  ------            --------------  -----  \n",
      " 0   ORDERNUMBER       2823 non-null   int64  \n",
      " 1   QUANTITYORDERED   2823 non-null   int64  \n",
      " 2   PRICEEACH         2823 non-null   float64\n",
      " 3   ORDERLINENUMBER   2823 non-null   int64  \n",
      " 4   SALES             2823 non-null   float64\n",
      " 5   ORDERDATE         2823 non-null   object \n",
      " 6   STATUS            2823 non-null   object \n",
      " 7   QTR_ID            2823 non-null   int64  \n",
      " 8   MONTH_ID          2823 non-null   int64  \n",
      " 9   YEAR_ID           2823 non-null   int64  \n",
      " 10  PRODUCTLINE       2823 non-null   object \n",
      " 11  MSRP              2823 non-null   int64  \n",
      " 12  PRODUCTCODE       2823 non-null   object \n",
      " 13  CUSTOMERNAME      2823 non-null   object \n",
      " 14  PHONE             2823 non-null   object \n",
      " 15  ADDRESSLINE1      2823 non-null   object \n",
      " 16  ADDRESSLINE2      302 non-null    object \n",
      " 17  CITY              2823 non-null   object \n",
      " 18  STATE             1337 non-null   object \n",
      " 19  POSTALCODE        2747 non-null   object \n",
      " 20  COUNTRY           2823 non-null   object \n",
      " 21  TERRITORY         1749 non-null   object \n",
      " 22  CONTACTLASTNAME   2823 non-null   object \n",
      " 23  CONTACTFIRSTNAME  2823 non-null   object \n",
      " 24  DEALSIZE          2823 non-null   object \n",
      "dtypes: float64(2), int64(7), object(16)\n",
      "memory usage: 551.5+ KB\n"
     ]
    }
   ],
   "source": [
    "sales.info()"
   ]
  },
  {
   "cell_type": "code",
   "execution_count": 5,
   "id": "420b5232-e8eb-4f15-b572-ee957baa4dcd",
   "metadata": {},
   "outputs": [
    {
     "data": {
      "text/plain": [
       "ORDERNUMBER            0\n",
       "QUANTITYORDERED        0\n",
       "PRICEEACH              0\n",
       "ORDERLINENUMBER        0\n",
       "SALES                  0\n",
       "ORDERDATE              0\n",
       "STATUS                 0\n",
       "QTR_ID                 0\n",
       "MONTH_ID               0\n",
       "YEAR_ID                0\n",
       "PRODUCTLINE            0\n",
       "MSRP                   0\n",
       "PRODUCTCODE            0\n",
       "CUSTOMERNAME           0\n",
       "PHONE                  0\n",
       "ADDRESSLINE1           0\n",
       "ADDRESSLINE2        2521\n",
       "CITY                   0\n",
       "STATE               1486\n",
       "POSTALCODE            76\n",
       "COUNTRY                0\n",
       "TERRITORY           1074\n",
       "CONTACTLASTNAME        0\n",
       "CONTACTFIRSTNAME       0\n",
       "DEALSIZE               0\n",
       "dtype: int64"
      ]
     },
     "execution_count": 5,
     "metadata": {},
     "output_type": "execute_result"
    }
   ],
   "source": [
    "sales.isnull().sum()"
   ]
  },
  {
   "cell_type": "markdown",
   "id": "e0f5614f-3a38-4d5c-b510-e0bea0d2732b",
   "metadata": {},
   "source": [
    "null values are present in ADDRESSLINE2 ,STATE ,TERRITORY \n",
    "lets drop ADDRESSLINE2  as it has alot of null values"
   ]
  },
  {
   "cell_type": "code",
   "execution_count": 6,
   "id": "6d7781b8-d71c-4ede-8dfb-cdda9fee8dfe",
   "metadata": {},
   "outputs": [],
   "source": [
    "sales.drop(\"ADDRESSLINE2\",axis=1,inplace=True)"
   ]
  },
  {
   "cell_type": "markdown",
   "id": "c0535224-6e08-4cee-81e2-a974a48bdd9e",
   "metadata": {},
   "source": [
    "changing the data type of ORDERDATE to datetime     "
   ]
  },
  {
   "cell_type": "code",
   "execution_count": 7,
   "id": "c41cb64d-0653-4563-82d9-ee344424c65b",
   "metadata": {},
   "outputs": [],
   "source": [
    "sales['ORDERDATE'] = pd.to_datetime(sales['ORDERDATE'], errors='coerce')"
   ]
  },
  {
   "cell_type": "code",
   "execution_count": 11,
   "id": "63516b6f-614d-46ed-bbcf-1c972525b053",
   "metadata": {},
   "outputs": [
    {
     "data": {
      "text/plain": [
       "ORDERNUMBER                  int64\n",
       "QUANTITYORDERED              int64\n",
       "PRICEEACH                  float64\n",
       "ORDERLINENUMBER              int64\n",
       "SALES                      float64\n",
       "ORDERDATE           datetime64[ns]\n",
       "STATUS                      object\n",
       "QTR_ID                       int64\n",
       "MONTH_ID                     int64\n",
       "YEAR_ID                      int64\n",
       "PRODUCTLINE                 object\n",
       "MSRP                         int64\n",
       "PRODUCTCODE                 object\n",
       "CUSTOMERNAME                object\n",
       "PHONE                       object\n",
       "ADDRESSLINE1                object\n",
       "CITY                        object\n",
       "STATE                       object\n",
       "POSTALCODE                  object\n",
       "COUNTRY                     object\n",
       "TERRITORY                   object\n",
       "CONTACTLASTNAME             object\n",
       "CONTACTFIRSTNAME            object\n",
       "DEALSIZE                    object\n",
       "dtype: object"
      ]
     },
     "execution_count": 11,
     "metadata": {},
     "output_type": "execute_result"
    }
   ],
   "source": [
    "sales.dtypes"
   ]
  },
  {
   "cell_type": "markdown",
   "id": "38818a3a-0806-4099-81e5-2ae7c66650fd",
   "metadata": {},
   "source": [
    "no need for address,phonenumber and  contact name to analyze sales data "
   ]
  },
  {
   "cell_type": "code",
   "execution_count": 12,
   "id": "43528dae-055c-488b-b33a-6e9fe0addc54",
   "metadata": {},
   "outputs": [],
   "source": [
    "to_drop=[\"PHONE\",\"ADDRESSLINE1\",\"CONTACTLASTNAME\",\"CONTACTFIRSTNAME\"]\n",
    "sales.drop(to_drop,axis=1,inplace=True)"
   ]
  },
  {
   "cell_type": "code",
   "execution_count": 14,
   "id": "35ee1dd7-8cab-4b8e-be3b-fb1ed81811c8",
   "metadata": {},
   "outputs": [
    {
     "data": {
      "text/plain": [
       "(2823, 20)"
      ]
     },
     "execution_count": 14,
     "metadata": {},
     "output_type": "execute_result"
    }
   ],
   "source": [
    "sales.shape"
   ]
  },
  {
   "cell_type": "markdown",
   "id": "5b4316a9-535f-4d1b-b413-75cc5106c150",
   "metadata": {},
   "source": [
    "as postal code has very less null values so we can drop those null values as they may not effect the analysis that much"
   ]
  },
  {
   "cell_type": "code",
   "execution_count": 20,
   "id": "3971edae-5bc6-4521-a6c4-8069fa0c8de8",
   "metadata": {},
   "outputs": [],
   "source": [
    "sales = sales.dropna(subset=['POSTALCODE'])"
   ]
  },
  {
   "cell_type": "markdown",
   "id": "c0bf3c8a-a0a3-403d-9ae8-ccee81f94cf2",
   "metadata": {},
   "source": [
    "**filling the correct state based on mapping with cities**"
   ]
  },
  {
   "cell_type": "code",
   "execution_count": 22,
   "id": "2a91a079-b215-4a3e-b77d-736e84b0a0a2",
   "metadata": {},
   "outputs": [
    {
     "name": "stderr",
     "output_type": "stream",
     "text": [
      "C:\\Users\\sriva\\AppData\\Local\\Temp\\ipykernel_20720\\3127480206.py:79: SettingWithCopyWarning: \n",
      "A value is trying to be set on a copy of a slice from a DataFrame.\n",
      "Try using .loc[row_indexer,col_indexer] = value instead\n",
      "\n",
      "See the caveats in the documentation: https://pandas.pydata.org/pandas-docs/stable/user_guide/indexing.html#returning-a-view-versus-a-copy\n",
      "  sales['STATE'] = sales.apply(lambda row: city_to_state.get(row['CITY'], row['STATE']), axis=1)\n"
     ]
    }
   ],
   "source": [
    "# Creating a complete mapping of city to state\n",
    "city_to_state = {\n",
    "    'Aaarhus': 'Central Denmark Region',\n",
    "    'Allentown': 'Pennsylvania',\n",
    "    'Barcelona': 'Catalonia',\n",
    "    'Bergamo': 'Lombardy',\n",
    "    'Bergen': 'Vestland',\n",
    "    'Boras': 'Västra Götaland County',\n",
    "    'Boston': 'Massachusetts',\n",
    "    'Brickhaven': 'North Carolina',\n",
    "    'Bridgewater': 'New Jersey',\n",
    "    'Brisbane': 'Queensland',\n",
    "    'Bruxelles': 'Brussels-Capital Region',\n",
    "    'Burbank': 'California',\n",
    "    'Burlingame': 'California',\n",
    "    'Cambridge': 'Massachusetts',\n",
    "    'Charleroi': 'Hainaut',\n",
    "    'Chatswood': 'New South Wales',\n",
    "    'Cowes': 'Victoria',\n",
    "    'Dublin': 'Leinster',\n",
    "    'Espoo': 'Uusimaa',\n",
    "    'Frankfurt': 'Hesse',\n",
    "    'Gensve': 'Geneva',\n",
    "    'Glen Waverly': 'Victoria',\n",
    "    'Glendale': 'California',\n",
    "    'Graz': 'Styria',\n",
    "    'Helsinki': 'Uusimaa',\n",
    "    'Kobenhavn': 'Capital Region of Denmark',\n",
    "    'Koln': 'North Rhine-Westphalia',\n",
    "    'Las Vegas': 'Nevada',\n",
    "    'Lille': 'Hauts-de-France',\n",
    "    'Liverpool': 'Merseyside',\n",
    "    'London': 'England',\n",
    "    'Los Angeles': 'California',\n",
    "    'Lule': 'Norrbotten County',\n",
    "    'Lyon': 'Auvergne-Rhône-Alpes',\n",
    "    'Madrid': 'Community of Madrid',\n",
    "    'Makati City': 'Metro Manila',\n",
    "    'Manchester': 'England',\n",
    "    'Marseille': 'Provence-Alpes-Côte d\\'Azur',\n",
    "    'Melbourne': 'Victoria',\n",
    "    'Minato-ku': 'Tokyo',\n",
    "    'Montreal': 'Quebec',\n",
    "    'Munich': 'Bavaria',\n",
    "    'NYC': 'New York',\n",
    "    'Nantes': 'Pays de la Loire',\n",
    "    'Nashua': 'New Hampshire',\n",
    "    'New Bedford': 'Massachusetts',\n",
    "    'New Haven': 'Connecticut',\n",
    "    'Newark': 'New Jersey',\n",
    "    'North Sydney': 'New South Wales',\n",
    "    'Osaka': 'Osaka Prefecture',\n",
    "    'Oslo': 'Oslo County',\n",
    "    'Oulu': 'North Ostrobothnia',\n",
    "    'Paris': 'Île-de-France',\n",
    "    'Pasadena': 'California',\n",
    "    'Philadelphia': 'Pennsylvania',\n",
    "    'Reggio Emilia': 'Emilia-Romagna',\n",
    "    'Reims': 'Grand Est',\n",
    "    'Salzburg': 'Salzburg State',\n",
    "    'San Diego': 'California',\n",
    "    'San Francisco': 'California',\n",
    "    'San Jose': 'California',\n",
    "    'San Rafael': 'California',\n",
    "    'Sevilla': 'Andalusia',\n",
    "    'Singapore': 'Central Region',\n",
    "    'South Brisbane': 'Queensland',\n",
    "    'Stavern': 'Vestfold og Telemark',\n",
    "    'Strasbourg': 'Grand Est',\n",
    "    'Torino': 'Piedmont',\n",
    "    'Toulouse': 'Occitanie',\n",
    "    'Tsawassen': 'British Columbia',\n",
    "    'Vancouver': 'British Columbia',\n",
    "    'Versailles': 'Île-de-France',\n",
    "    'White Plains': 'New York'\n",
    "}\n",
    "\n",
    "# Apply the mapping to the dataset\n",
    "sales['STATE'] = sales.apply(lambda row: city_to_state.get(row['CITY'], row['STATE']), axis=1)\n",
    "\n"
   ]
  },
  {
   "cell_type": "markdown",
   "id": "571a72dc-698f-4cc9-86b9-a847426546c3",
   "metadata": {},
   "source": [
    "**Doing same for territories**"
   ]
  },
  {
   "cell_type": "code",
   "execution_count": 24,
   "id": "882678ef-63bf-43e0-bdc5-126104081431",
   "metadata": {},
   "outputs": [
    {
     "name": "stderr",
     "output_type": "stream",
     "text": [
      "C:\\Users\\sriva\\AppData\\Local\\Temp\\ipykernel_20720\\203977678.py:85: SettingWithCopyWarning: \n",
      "A value is trying to be set on a copy of a slice from a DataFrame.\n",
      "Try using .loc[row_indexer,col_indexer] = value instead\n",
      "\n",
      "See the caveats in the documentation: https://pandas.pydata.org/pandas-docs/stable/user_guide/indexing.html#returning-a-view-versus-a-copy\n",
      "  sales['TERRITORY'] = sales.apply(lambda row: city_to_territory.get(row['CITY'], row['TERRITORY']), axis=1)\n"
     ]
    }
   ],
   "source": [
    "# Mapping of cities to territories\n",
    "city_to_territory = {\n",
    "    # North America\n",
    "    'Allentown': 'North America',\n",
    "    'Boston': 'North America',\n",
    "    'Brickhaven': 'North America',\n",
    "    'Bridgewater': 'North America',\n",
    "    'Burbank': 'North America',\n",
    "    'Burlingame': 'North America',\n",
    "    'Cambridge': 'North America',\n",
    "    'Glendale': 'North America',\n",
    "    'Las Vegas': 'North America',\n",
    "    'Nashua': 'North America',\n",
    "    'New Bedford': 'North America',\n",
    "    'New Haven': 'North America',\n",
    "    'Newark': 'North America',\n",
    "    'NYC': 'North America',\n",
    "    'Pasadena': 'North America',\n",
    "    'Philadelphia': 'North America',\n",
    "    'San Diego': 'North America',\n",
    "    'San Francisco': 'North America',\n",
    "    'San Jose': 'North America',\n",
    "    'San Rafael': 'North America',\n",
    "    'White Plains': 'North America',\n",
    "    'Montreal': 'North America',\n",
    "    'Vancouver': 'North America',\n",
    "    'Tsawassen': 'North America',\n",
    "\n",
    "    # Europe\n",
    "    'Aaarhus': 'Europe',\n",
    "    'Barcelona': 'Europe',\n",
    "    'Bergamo': 'Europe',\n",
    "    'Bergen': 'Europe',\n",
    "    'Boras': 'Europe',\n",
    "    'Bruxelles': 'Europe',\n",
    "    'Charleroi': 'Europe',\n",
    "    'Dublin': 'Europe',\n",
    "    'Espoo': 'Europe',\n",
    "    'Frankfurt': 'Europe',\n",
    "    'Gensve': 'Europe',\n",
    "    'Graz': 'Europe',\n",
    "    'Helsinki': 'Europe',\n",
    "    'Kobenhavn': 'Europe',\n",
    "    'Koln': 'Europe',\n",
    "    'Lille': 'Europe',\n",
    "    'Liverpool': 'Europe',\n",
    "    'London': 'Europe',\n",
    "    'Lule': 'Europe',\n",
    "    'Lyon': 'Europe',\n",
    "    'Madrid': 'Europe',\n",
    "    'Manchester': 'Europe',\n",
    "    'Marseille': 'Europe',\n",
    "    'Munich': 'Europe',\n",
    "    'Nantes': 'Europe',\n",
    "    'Oslo': 'Europe',\n",
    "    'Oulu': 'Europe',\n",
    "    'Paris': 'Europe',\n",
    "    'Reggio Emilia': 'Europe',\n",
    "    'Reims': 'Europe',\n",
    "    'Salzburg': 'Europe',\n",
    "    'Sevilla': 'Europe',\n",
    "    'Strasbourg': 'Europe',\n",
    "    'Torino': 'Europe',\n",
    "    'Toulouse': 'Europe',\n",
    "    'Versailles': 'Europe',\n",
    "\n",
    "    # APAC (Asia-Pacific)\n",
    "    'Brisbane': 'APAC',\n",
    "    'Chatswood': 'APAC',\n",
    "    'Cowes': 'APAC',\n",
    "    'Glen Waverly': 'APAC',\n",
    "    'Melbourne': 'APAC',\n",
    "    'Minato-ku': 'APAC',\n",
    "    'Makati City': 'APAC',\n",
    "    'North Sydney': 'APAC',\n",
    "    'Osaka': 'APAC',\n",
    "    'Singapore': 'APAC',\n",
    "    'South Brisbane': 'APAC',\n",
    "    'Stavern': 'Europe',  # Norway (not APAC)\n",
    "\n",
    "    # If needed, you can add 'Rest of World' for unmapped cities\n",
    "}\n",
    "\n",
    "# Apply the mapping\n",
    "sales['TERRITORY'] = sales.apply(lambda row: city_to_territory.get(row['CITY'], row['TERRITORY']), axis=1)"
   ]
  },
  {
   "cell_type": "code",
   "execution_count": 25,
   "id": "f047fb4d-09ce-4136-9d95-7cbb8aee1d83",
   "metadata": {},
   "outputs": [
    {
     "data": {
      "text/plain": [
       "ORDERNUMBER        0\n",
       "QUANTITYORDERED    0\n",
       "PRICEEACH          0\n",
       "ORDERLINENUMBER    0\n",
       "SALES              0\n",
       "ORDERDATE          0\n",
       "STATUS             0\n",
       "QTR_ID             0\n",
       "MONTH_ID           0\n",
       "YEAR_ID            0\n",
       "PRODUCTLINE        0\n",
       "MSRP               0\n",
       "PRODUCTCODE        0\n",
       "CUSTOMERNAME       0\n",
       "CITY               0\n",
       "STATE              0\n",
       "POSTALCODE         0\n",
       "COUNTRY            0\n",
       "TERRITORY          0\n",
       "DEALSIZE           0\n",
       "dtype: int64"
      ]
     },
     "execution_count": 25,
     "metadata": {},
     "output_type": "execute_result"
    }
   ],
   "source": [
    "sales.isnull().sum()"
   ]
  },
  {
   "cell_type": "markdown",
   "id": "5e57cff3-e365-4c0e-9e07-e2f485674cc7",
   "metadata": {},
   "source": [
    "**no any null values present**"
   ]
  },
  {
   "cell_type": "code",
   "execution_count": 26,
   "id": "68dc7b49-368f-4abd-bf29-86cc733b50a9",
   "metadata": {},
   "outputs": [
    {
     "data": {
      "text/plain": [
       "(2747, 20)"
      ]
     },
     "execution_count": 26,
     "metadata": {},
     "output_type": "execute_result"
    }
   ],
   "source": [
    "sales.shape"
   ]
  },
  {
   "cell_type": "code",
   "execution_count": 27,
   "id": "2791e18a-f3e2-48e3-89b0-c2a9cfd23918",
   "metadata": {},
   "outputs": [],
   "source": [
    "sales.to_csv(\"SALES_DATA_CLEANED.csv\", index=False, encoding='utf-8')"
   ]
  },
  {
   "cell_type": "code",
   "execution_count": null,
   "id": "432d5b9f-251f-4fa6-996a-19666d3d6265",
   "metadata": {},
   "outputs": [],
   "source": []
  }
 ],
 "metadata": {
  "kernelspec": {
   "display_name": "Python 3 (ipykernel)",
   "language": "python",
   "name": "python3"
  },
  "language_info": {
   "codemirror_mode": {
    "name": "ipython",
    "version": 3
   },
   "file_extension": ".py",
   "mimetype": "text/x-python",
   "name": "python",
   "nbconvert_exporter": "python",
   "pygments_lexer": "ipython3",
   "version": "3.11.7"
  }
 },
 "nbformat": 4,
 "nbformat_minor": 5
}
